{
 "cells": [
  {
   "cell_type": "code",
   "execution_count": 1,
   "metadata": {},
   "outputs": [],
   "source": [
    "import matplotlib.pyplot as plt\n",
    "from pathlib import Path\n",
    "from PIL import Image\n",
    "import pandas as pd\n",
    "\n",
    "from SAES.plots.boxplot import boxplot\n",
    "from SAES.plots.boxplot import boxplot_all_instances\n",
    "from SAES.plots.boxplot import boxplots_all_metrics_instances\n",
    "from SAES.plots.critical_distance_plot import CDplot\n",
    "from SAES.plots.critical_distance_plot import CDplot_all_metrics\n",
    "from SAES.latex_generation.latex_skeleton import latex_all_metrics\n",
    "from SAES.latex_generation.latex_skeleton import latex_selected\n",
    "from SAES.latex_generation.latex_skeleton import latex\n",
    "from SAES.utils.csv_processor import obtain_list_metrics\n",
    "from SAES.utils.csv_processor import obtain_list_instances"
   ]
  },
  {
   "cell_type": "code",
   "execution_count": 8,
   "metadata": {},
   "outputs": [],
   "source": [
    "# Load the experiment data\n",
    "experimentData = pd.read_csv('ZCATSummary.csv')\n",
    "metrics = pd.read_csv('multiobjectiveMetrics.csv')\n",
    "\n",
    "metrics_list = obtain_list_metrics(metrics)\n",
    "instances = obtain_list_instances(experimentData)"
   ]
  },
  {
   "cell_type": "code",
   "execution_count": 4,
   "metadata": {},
   "outputs": [
    {
     "name": "stderr",
     "output_type": "stream",
     "text": [
      "[2025-01-27 17:06:00,868] [SAES.latex_generation.latex_skeleton] [INFO] LaTeX document for metric HV saved to /home/rorro6787/Escritorio/Universidad/TrabajoInvestigacion/SAES/notebooks/multiobjective_optimization/outputs/latex/HV\n"
     ]
    },
    {
     "data": {
      "text/plain": [
       "'/home/rorro6787/Escritorio/Universidad/TrabajoInvestigacion/SAES/notebooks/multiobjective_optimization/outputs/latex/HV'"
      ]
     },
     "execution_count": 4,
     "metadata": {},
     "output_type": "execute_result"
    }
   ],
   "source": [
    "latex(experimentData, metrics, \"HV\", output_path=\"/home/khaosdev/SAES/notebooks/multiobjective_optimization\")"
   ]
  },
  {
   "cell_type": "code",
   "execution_count": 9,
   "metadata": {},
   "outputs": [
    {
     "name": "stderr",
     "output_type": "stream",
     "text": [
      "[2025-01-27 10:39:49,312] [SAES.latex_generation.latex_skeleton] [INFO] LaTeX median document for metric HV saved to /home/khaosdev/SAES/notebooks/ZCAT_study/outputs/latex/HV\n"
     ]
    },
    {
     "data": {
      "text/plain": [
       "'/home/khaosdev/SAES/notebooks/ZCAT_study/outputs/latex/HV/median.tex'"
      ]
     },
     "execution_count": 9,
     "metadata": {},
     "output_type": "execute_result"
    }
   ],
   "source": [
    "latex_selected(experimentData, metrics, \"HV\", selected=\"median\")"
   ]
  },
  {
   "cell_type": "code",
   "execution_count": 4,
   "metadata": {},
   "outputs": [
    {
     "name": "stderr",
     "output_type": "stream",
     "text": [
      "[2025-01-27 10:38:11,669] [SAES.latex_generation.latex_skeleton] [INFO] LaTeX document for metric EP saved to /home/khaosdev/SAES/notebooks/multiobjective_optimization/outputs/latex/EP\n",
      "[2025-01-27 10:38:12,739] [SAES.latex_generation.latex_skeleton] [INFO] LaTeX document for metric HV saved to /home/khaosdev/SAES/notebooks/multiobjective_optimization/outputs/latex/HV\n",
      "[2025-01-27 10:38:13,819] [SAES.latex_generation.latex_skeleton] [INFO] LaTeX document for metric NHV saved to /home/khaosdev/SAES/notebooks/multiobjective_optimization/outputs/latex/NHV\n",
      "[2025-01-27 10:38:14,919] [SAES.latex_generation.latex_skeleton] [INFO] LaTeX document for metric IGD+ saved to /home/khaosdev/SAES/notebooks/multiobjective_optimization/outputs/latex/IGD+\n"
     ]
    },
    {
     "data": {
      "text/plain": [
       "'/home/khaosdev/SAES/notebooks/multiobjective_optimization/outputs/latex'"
      ]
     },
     "execution_count": 4,
     "metadata": {},
     "output_type": "execute_result"
    }
   ],
   "source": [
    "latex_all_metrics(experimentData, metrics, output_path=\"/home/khaosdev/SAES/notebooks/multiobjective_optimization\")"
   ]
  },
  {
   "cell_type": "code",
   "execution_count": 4,
   "metadata": {},
   "outputs": [
    {
     "name": "stderr",
     "output_type": "stream",
     "text": [
      "[2025-01-27 10:32:37,579] [SAES.plots.critical_distance_plot] [INFO] Critical distance for metric HV saved to /home/khaosdev/SAES/notebooks/ZCAT_study/outputs/critical_distance\n"
     ]
    },
    {
     "data": {
      "text/plain": [
       "'/home/khaosdev/SAES/notebooks/ZCAT_study/outputs/critical_distance'"
      ]
     },
     "execution_count": 4,
     "metadata": {},
     "output_type": "execute_result"
    }
   ],
   "source": [
    "CDplot(experimentData, metrics, \"HV\", show=False)"
   ]
  },
  {
   "cell_type": "code",
   "execution_count": 9,
   "metadata": {},
   "outputs": [
    {
     "name": "stderr",
     "output_type": "stream",
     "text": [
      "[2025-01-27 17:15:08,900] [SAES.plots.critical_distance_plot] [INFO] Critical distance for metric EP saved to /home/rorro6787/Escritorio/Universidad/TrabajoInvestigacion/SAES/notebooks/multiobjective_optimization/outputs/critical_distance\n",
      "[2025-01-27 17:15:09,058] [SAES.plots.critical_distance_plot] [INFO] Critical distance for metric HV saved to /home/rorro6787/Escritorio/Universidad/TrabajoInvestigacion/SAES/notebooks/multiobjective_optimization/outputs/critical_distance\n",
      "[2025-01-27 17:15:09,219] [SAES.plots.critical_distance_plot] [INFO] Critical distance for metric NHV saved to /home/rorro6787/Escritorio/Universidad/TrabajoInvestigacion/SAES/notebooks/multiobjective_optimization/outputs/critical_distance\n",
      "[2025-01-27 17:15:09,389] [SAES.plots.critical_distance_plot] [INFO] Critical distance for metric IGD+ saved to /home/rorro6787/Escritorio/Universidad/TrabajoInvestigacion/SAES/notebooks/multiobjective_optimization/outputs/critical_distance\n"
     ]
    },
    {
     "data": {
      "text/plain": [
       "'/home/rorro6787/Escritorio/Universidad/TrabajoInvestigacion/SAES/notebooks/multiobjective_optimization/outputs/critical_distance'"
      ]
     },
     "execution_count": 9,
     "metadata": {},
     "output_type": "execute_result"
    }
   ],
   "source": [
    "CDplot_all_metrics(experimentData, metrics, output_path=\"/home/khaosdev/SAES/notebooks/multiobjective_optimization\")"
   ]
  },
  {
   "cell_type": "code",
   "execution_count": 4,
   "metadata": {},
   "outputs": [
    {
     "name": "stderr",
     "output_type": "stream",
     "text": [
      "[2025-01-27 10:26:48,983] [SAES.plots.boxplot] [INFO] Boxplots for metric EP saved to /home/khaosdev/SAES/notebooks/ZCAT_study/outputs/boxplots/EP\n",
      "[2025-01-27 10:26:53,166] [SAES.plots.boxplot] [INFO] Boxplots for metric HV saved to /home/khaosdev/SAES/notebooks/ZCAT_study/outputs/boxplots/HV\n",
      "[2025-01-27 10:26:57,283] [SAES.plots.boxplot] [INFO] Boxplots for metric NHV saved to /home/khaosdev/SAES/notebooks/ZCAT_study/outputs/boxplots/NHV\n",
      "[2025-01-27 10:27:01,451] [SAES.plots.boxplot] [INFO] Boxplots for metric IGD+ saved to /home/khaosdev/SAES/notebooks/ZCAT_study/outputs/boxplots/IGD+\n"
     ]
    },
    {
     "data": {
      "text/plain": [
       "'/home/khaosdev/SAES/notebooks/ZCAT_study/outputs/boxplots'"
      ]
     },
     "execution_count": 4,
     "metadata": {},
     "output_type": "execute_result"
    }
   ],
   "source": [
    "boxplots_all_metrics_instances(experimentData, metrics)"
   ]
  },
  {
   "cell_type": "code",
   "execution_count": null,
   "metadata": {},
   "outputs": [
    {
     "name": "stderr",
     "output_type": "stream",
     "text": [
      "[2025-01-27 10:23:11,314] [SAES.plots.boxplot] [INFO] Boxplots for metric HV saved to /home/khaosdev/SAES/notebooks/ZCAT_study/outputs/boxplots/HV\n"
     ]
    },
    {
     "data": {
      "text/plain": [
       "'/home/khaosdev/SAES/notebooks/ZCAT_study/outputs/boxplots/HV'"
      ]
     },
     "execution_count": 4,
     "metadata": {},
     "output_type": "execute_result"
    }
   ],
   "source": [
    "boxplot_all_instances(experimentData, metrics, \"HV\", output_path=\"/home/khaosdev/SAES/notebooks/multiobjective_optimization\")"
   ]
  },
  {
   "cell_type": "code",
   "execution_count": 6,
   "metadata": {},
   "outputs": [
    {
     "data": {
      "image/png": "[encoded data removed]",
      "text/plain": [
       "<Figure size 1000x600 with 1 Axes>"
      ]
     },
     "metadata": {},
     "output_type": "display_data"
    },
    {
     "data": {
      "text/plain": [
       "'Boxplot displayed'"
      ]
     },
     "execution_count": 6,
     "metadata": {},
     "output_type": "execute_result"
    }
   ],
   "source": [
    "boxplot(experimentData, metrics, \"HV\", \"ZCAT6\", show=True)"
   ]
  },
  {
   "cell_type": "code",
   "execution_count": 4,
   "metadata": {},
   "outputs": [
    {
     "name": "stderr",
     "output_type": "stream",
     "text": [
      "[2025-01-22 13:19:42,346] [SAES.plots.boxplot] [INFO] Boxplots for metric EP saved to /home/khaosdev/SAES/notebooks/ZCAT_study/outputs/boxplots/EP\n",
      "[2025-01-22 13:19:42,626] [SAES.plots.boxplot] [INFO] Boxplots for metric EP saved to /home/khaosdev/SAES/notebooks/ZCAT_study/outputs/boxplots/EP\n",
      "[2025-01-22 13:19:42,813] [SAES.plots.boxplot] [INFO] Boxplots for metric EP saved to /home/khaosdev/SAES/notebooks/ZCAT_study/outputs/boxplots/EP\n",
      "[2025-01-22 13:19:43,025] [SAES.plots.boxplot] [INFO] Boxplots for metric EP saved to /home/khaosdev/SAES/notebooks/ZCAT_study/outputs/boxplots/EP\n",
      "[2025-01-22 13:19:43,325] [SAES.plots.boxplot] [INFO] Boxplots for metric EP saved to /home/khaosdev/SAES/notebooks/ZCAT_study/outputs/boxplots/EP\n",
      "[2025-01-22 13:19:43,541] [SAES.plots.boxplot] [INFO] Boxplots for metric EP saved to /home/khaosdev/SAES/notebooks/ZCAT_study/outputs/boxplots/EP\n",
      "[2025-01-22 13:19:43,732] [SAES.plots.boxplot] [INFO] Boxplots for metric EP saved to /home/khaosdev/SAES/notebooks/ZCAT_study/outputs/boxplots/EP\n",
      "[2025-01-22 13:19:43,933] [SAES.plots.boxplot] [INFO] Boxplots for metric EP saved to /home/khaosdev/SAES/notebooks/ZCAT_study/outputs/boxplots/EP\n",
      "[2025-01-22 13:19:44,131] [SAES.plots.boxplot] [INFO] Boxplots for metric EP saved to /home/khaosdev/SAES/notebooks/ZCAT_study/outputs/boxplots/EP\n",
      "[2025-01-22 13:19:44,335] [SAES.plots.boxplot] [INFO] Boxplots for metric EP saved to /home/khaosdev/SAES/notebooks/ZCAT_study/outputs/boxplots/EP\n",
      "[2025-01-22 13:19:44,523] [SAES.plots.boxplot] [INFO] Boxplots for metric EP saved to /home/khaosdev/SAES/notebooks/ZCAT_study/outputs/boxplots/EP\n",
      "[2025-01-22 13:19:44,716] [SAES.plots.boxplot] [INFO] Boxplots for metric EP saved to /home/khaosdev/SAES/notebooks/ZCAT_study/outputs/boxplots/EP\n",
      "[2025-01-22 13:19:44,907] [SAES.plots.boxplot] [INFO] Boxplots for metric EP saved to /home/khaosdev/SAES/notebooks/ZCAT_study/outputs/boxplots/EP\n",
      "[2025-01-22 13:19:45,111] [SAES.plots.boxplot] [INFO] Boxplots for metric EP saved to /home/khaosdev/SAES/notebooks/ZCAT_study/outputs/boxplots/EP\n",
      "[2025-01-22 13:19:45,441] [SAES.plots.boxplot] [INFO] Boxplots for metric EP saved to /home/khaosdev/SAES/notebooks/ZCAT_study/outputs/boxplots/EP\n",
      "[2025-01-22 13:19:45,650] [SAES.plots.boxplot] [INFO] Boxplots for metric EP saved to /home/khaosdev/SAES/notebooks/ZCAT_study/outputs/boxplots/EP\n",
      "[2025-01-22 13:19:45,849] [SAES.plots.boxplot] [INFO] Boxplots for metric EP saved to /home/khaosdev/SAES/notebooks/ZCAT_study/outputs/boxplots/EP\n",
      "[2025-01-22 13:19:46,043] [SAES.plots.boxplot] [INFO] Boxplots for metric EP saved to /home/khaosdev/SAES/notebooks/ZCAT_study/outputs/boxplots/EP\n",
      "[2025-01-22 13:19:46,243] [SAES.plots.boxplot] [INFO] Boxplots for metric EP saved to /home/khaosdev/SAES/notebooks/ZCAT_study/outputs/boxplots/EP\n",
      "[2025-01-22 13:19:46,431] [SAES.plots.boxplot] [INFO] Boxplots for metric EP saved to /home/khaosdev/SAES/notebooks/ZCAT_study/outputs/boxplots/EP\n",
      "[2025-01-22 13:19:46,616] [SAES.plots.boxplot] [INFO] Boxplots for metric HV saved to /home/khaosdev/SAES/notebooks/ZCAT_study/outputs/boxplots/HV\n",
      "[2025-01-22 13:19:46,813] [SAES.plots.boxplot] [INFO] Boxplots for metric HV saved to /home/khaosdev/SAES/notebooks/ZCAT_study/outputs/boxplots/HV\n",
      "[2025-01-22 13:19:47,010] [SAES.plots.boxplot] [INFO] Boxplots for metric HV saved to /home/khaosdev/SAES/notebooks/ZCAT_study/outputs/boxplots/HV\n",
      "[2025-01-22 13:19:47,197] [SAES.plots.boxplot] [INFO] Boxplots for metric HV saved to /home/khaosdev/SAES/notebooks/ZCAT_study/outputs/boxplots/HV\n",
      "[2025-01-22 13:19:47,413] [SAES.plots.boxplot] [INFO] Boxplots for metric HV saved to /home/khaosdev/SAES/notebooks/ZCAT_study/outputs/boxplots/HV\n",
      "[2025-01-22 13:19:47,620] [SAES.plots.boxplot] [INFO] Boxplots for metric HV saved to /home/khaosdev/SAES/notebooks/ZCAT_study/outputs/boxplots/HV\n",
      "[2025-01-22 13:19:47,804] [SAES.plots.boxplot] [INFO] Boxplots for metric HV saved to /home/khaosdev/SAES/notebooks/ZCAT_study/outputs/boxplots/HV\n",
      "[2025-01-22 13:19:48,165] [SAES.plots.boxplot] [INFO] Boxplots for metric HV saved to /home/khaosdev/SAES/notebooks/ZCAT_study/outputs/boxplots/HV\n",
      "[2025-01-22 13:19:48,360] [SAES.plots.boxplot] [INFO] Boxplots for metric HV saved to /home/khaosdev/SAES/notebooks/ZCAT_study/outputs/boxplots/HV\n",
      "[2025-01-22 13:19:48,561] [SAES.plots.boxplot] [INFO] Boxplots for metric HV saved to /home/khaosdev/SAES/notebooks/ZCAT_study/outputs/boxplots/HV\n",
      "[2025-01-22 13:19:48,759] [SAES.plots.boxplot] [INFO] Boxplots for metric HV saved to /home/khaosdev/SAES/notebooks/ZCAT_study/outputs/boxplots/HV\n",
      "[2025-01-22 13:19:48,949] [SAES.plots.boxplot] [INFO] Boxplots for metric HV saved to /home/khaosdev/SAES/notebooks/ZCAT_study/outputs/boxplots/HV\n",
      "[2025-01-22 13:19:49,141] [SAES.plots.boxplot] [INFO] Boxplots for metric HV saved to /home/khaosdev/SAES/notebooks/ZCAT_study/outputs/boxplots/HV\n",
      "[2025-01-22 13:19:49,326] [SAES.plots.boxplot] [INFO] Boxplots for metric HV saved to /home/khaosdev/SAES/notebooks/ZCAT_study/outputs/boxplots/HV\n",
      "[2025-01-22 13:19:49,516] [SAES.plots.boxplot] [INFO] Boxplots for metric HV saved to /home/khaosdev/SAES/notebooks/ZCAT_study/outputs/boxplots/HV\n",
      "[2025-01-22 13:19:49,713] [SAES.plots.boxplot] [INFO] Boxplots for metric HV saved to /home/khaosdev/SAES/notebooks/ZCAT_study/outputs/boxplots/HV\n",
      "[2025-01-22 13:19:49,922] [SAES.plots.boxplot] [INFO] Boxplots for metric HV saved to /home/khaosdev/SAES/notebooks/ZCAT_study/outputs/boxplots/HV\n",
      "[2025-01-22 13:19:50,104] [SAES.plots.boxplot] [INFO] Boxplots for metric HV saved to /home/khaosdev/SAES/notebooks/ZCAT_study/outputs/boxplots/HV\n",
      "[2025-01-22 13:19:50,290] [SAES.plots.boxplot] [INFO] Boxplots for metric HV saved to /home/khaosdev/SAES/notebooks/ZCAT_study/outputs/boxplots/HV\n",
      "[2025-01-22 13:19:50,475] [SAES.plots.boxplot] [INFO] Boxplots for metric HV saved to /home/khaosdev/SAES/notebooks/ZCAT_study/outputs/boxplots/HV\n",
      "[2025-01-22 13:19:50,676] [SAES.plots.boxplot] [INFO] Boxplots for metric NHV saved to /home/khaosdev/SAES/notebooks/ZCAT_study/outputs/boxplots/NHV\n",
      "[2025-01-22 13:19:51,075] [SAES.plots.boxplot] [INFO] Boxplots for metric NHV saved to /home/khaosdev/SAES/notebooks/ZCAT_study/outputs/boxplots/NHV\n",
      "[2025-01-22 13:19:51,274] [SAES.plots.boxplot] [INFO] Boxplots for metric NHV saved to /home/khaosdev/SAES/notebooks/ZCAT_study/outputs/boxplots/NHV\n",
      "[2025-01-22 13:19:51,462] [SAES.plots.boxplot] [INFO] Boxplots for metric NHV saved to /home/khaosdev/SAES/notebooks/ZCAT_study/outputs/boxplots/NHV\n",
      "[2025-01-22 13:19:51,667] [SAES.plots.boxplot] [INFO] Boxplots for metric NHV saved to /home/khaosdev/SAES/notebooks/ZCAT_study/outputs/boxplots/NHV\n",
      "[2025-01-22 13:19:51,868] [SAES.plots.boxplot] [INFO] Boxplots for metric NHV saved to /home/khaosdev/SAES/notebooks/ZCAT_study/outputs/boxplots/NHV\n",
      "[2025-01-22 13:19:52,055] [SAES.plots.boxplot] [INFO] Boxplots for metric NHV saved to /home/khaosdev/SAES/notebooks/ZCAT_study/outputs/boxplots/NHV\n",
      "[2025-01-22 13:19:52,245] [SAES.plots.boxplot] [INFO] Boxplots for metric NHV saved to /home/khaosdev/SAES/notebooks/ZCAT_study/outputs/boxplots/NHV\n",
      "[2025-01-22 13:19:52,518] [SAES.plots.boxplot] [INFO] Boxplots for metric NHV saved to /home/khaosdev/SAES/notebooks/ZCAT_study/outputs/boxplots/NHV\n",
      "[2025-01-22 13:19:52,715] [SAES.plots.boxplot] [INFO] Boxplots for metric NHV saved to /home/khaosdev/SAES/notebooks/ZCAT_study/outputs/boxplots/NHV\n",
      "[2025-01-22 13:19:52,915] [SAES.plots.boxplot] [INFO] Boxplots for metric NHV saved to /home/khaosdev/SAES/notebooks/ZCAT_study/outputs/boxplots/NHV\n",
      "[2025-01-22 13:19:53,112] [SAES.plots.boxplot] [INFO] Boxplots for metric NHV saved to /home/khaosdev/SAES/notebooks/ZCAT_study/outputs/boxplots/NHV\n",
      "[2025-01-22 13:19:53,325] [SAES.plots.boxplot] [INFO] Boxplots for metric NHV saved to /home/khaosdev/SAES/notebooks/ZCAT_study/outputs/boxplots/NHV\n",
      "[2025-01-22 13:19:53,527] [SAES.plots.boxplot] [INFO] Boxplots for metric NHV saved to /home/khaosdev/SAES/notebooks/ZCAT_study/outputs/boxplots/NHV\n",
      "[2025-01-22 13:19:53,715] [SAES.plots.boxplot] [INFO] Boxplots for metric NHV saved to /home/khaosdev/SAES/notebooks/ZCAT_study/outputs/boxplots/NHV\n",
      "[2025-01-22 13:19:53,917] [SAES.plots.boxplot] [INFO] Boxplots for metric NHV saved to /home/khaosdev/SAES/notebooks/ZCAT_study/outputs/boxplots/NHV\n",
      "[2025-01-22 13:19:54,128] [SAES.plots.boxplot] [INFO] Boxplots for metric NHV saved to /home/khaosdev/SAES/notebooks/ZCAT_study/outputs/boxplots/NHV\n",
      "[2025-01-22 13:19:54,315] [SAES.plots.boxplot] [INFO] Boxplots for metric NHV saved to /home/khaosdev/SAES/notebooks/ZCAT_study/outputs/boxplots/NHV\n",
      "[2025-01-22 13:19:54,510] [SAES.plots.boxplot] [INFO] Boxplots for metric NHV saved to /home/khaosdev/SAES/notebooks/ZCAT_study/outputs/boxplots/NHV\n",
      "[2025-01-22 13:19:54,922] [SAES.plots.boxplot] [INFO] Boxplots for metric NHV saved to /home/khaosdev/SAES/notebooks/ZCAT_study/outputs/boxplots/NHV\n",
      "[2025-01-22 13:19:55,132] [SAES.plots.boxplot] [INFO] Boxplots for metric IGD+ saved to /home/khaosdev/SAES/notebooks/ZCAT_study/outputs/boxplots/IGD+\n",
      "[2025-01-22 13:19:55,344] [SAES.plots.boxplot] [INFO] Boxplots for metric IGD+ saved to /home/khaosdev/SAES/notebooks/ZCAT_study/outputs/boxplots/IGD+\n",
      "[2025-01-22 13:19:55,565] [SAES.plots.boxplot] [INFO] Boxplots for metric IGD+ saved to /home/khaosdev/SAES/notebooks/ZCAT_study/outputs/boxplots/IGD+\n",
      "[2025-01-22 13:19:55,767] [SAES.plots.boxplot] [INFO] Boxplots for metric IGD+ saved to /home/khaosdev/SAES/notebooks/ZCAT_study/outputs/boxplots/IGD+\n",
      "[2025-01-22 13:19:55,965] [SAES.plots.boxplot] [INFO] Boxplots for metric IGD+ saved to /home/khaosdev/SAES/notebooks/ZCAT_study/outputs/boxplots/IGD+\n",
      "[2025-01-22 13:19:56,173] [SAES.plots.boxplot] [INFO] Boxplots for metric IGD+ saved to /home/khaosdev/SAES/notebooks/ZCAT_study/outputs/boxplots/IGD+\n",
      "[2025-01-22 13:19:56,379] [SAES.plots.boxplot] [INFO] Boxplots for metric IGD+ saved to /home/khaosdev/SAES/notebooks/ZCAT_study/outputs/boxplots/IGD+\n",
      "[2025-01-22 13:19:56,591] [SAES.plots.boxplot] [INFO] Boxplots for metric IGD+ saved to /home/khaosdev/SAES/notebooks/ZCAT_study/outputs/boxplots/IGD+\n",
      "[2025-01-22 13:19:56,810] [SAES.plots.boxplot] [INFO] Boxplots for metric IGD+ saved to /home/khaosdev/SAES/notebooks/ZCAT_study/outputs/boxplots/IGD+\n",
      "[2025-01-22 13:19:57,036] [SAES.plots.boxplot] [INFO] Boxplots for metric IGD+ saved to /home/khaosdev/SAES/notebooks/ZCAT_study/outputs/boxplots/IGD+\n",
      "[2025-01-22 13:19:57,269] [SAES.plots.boxplot] [INFO] Boxplots for metric IGD+ saved to /home/khaosdev/SAES/notebooks/ZCAT_study/outputs/boxplots/IGD+\n",
      "[2025-01-22 13:19:57,488] [SAES.plots.boxplot] [INFO] Boxplots for metric IGD+ saved to /home/khaosdev/SAES/notebooks/ZCAT_study/outputs/boxplots/IGD+\n",
      "[2025-01-22 13:19:57,707] [SAES.plots.boxplot] [INFO] Boxplots for metric IGD+ saved to /home/khaosdev/SAES/notebooks/ZCAT_study/outputs/boxplots/IGD+\n",
      "[2025-01-22 13:19:57,920] [SAES.plots.boxplot] [INFO] Boxplots for metric IGD+ saved to /home/khaosdev/SAES/notebooks/ZCAT_study/outputs/boxplots/IGD+\n",
      "[2025-01-22 13:19:58,132] [SAES.plots.boxplot] [INFO] Boxplots for metric IGD+ saved to /home/khaosdev/SAES/notebooks/ZCAT_study/outputs/boxplots/IGD+\n",
      "[2025-01-22 13:19:58,358] [SAES.plots.boxplot] [INFO] Boxplots for metric IGD+ saved to /home/khaosdev/SAES/notebooks/ZCAT_study/outputs/boxplots/IGD+\n",
      "[2025-01-22 13:19:58,566] [SAES.plots.boxplot] [INFO] Boxplots for metric IGD+ saved to /home/khaosdev/SAES/notebooks/ZCAT_study/outputs/boxplots/IGD+\n",
      "[2025-01-22 13:19:58,770] [SAES.plots.boxplot] [INFO] Boxplots for metric IGD+ saved to /home/khaosdev/SAES/notebooks/ZCAT_study/outputs/boxplots/IGD+\n",
      "[2025-01-22 13:19:58,976] [SAES.plots.boxplot] [INFO] Boxplots for metric IGD+ saved to /home/khaosdev/SAES/notebooks/ZCAT_study/outputs/boxplots/IGD+\n",
      "[2025-01-22 13:19:59,179] [SAES.plots.boxplot] [INFO] Boxplots for metric IGD+ saved to /home/khaosdev/SAES/notebooks/ZCAT_study/outputs/boxplots/IGD+\n"
     ]
    }
   ],
   "source": [
    "for metric in metrics_list:\n",
    "    for instance in instances:\n",
    "        boxplot(experimentData, metrics, metric, instance, show=False)"
   ]
  },
  {
   "cell_type": "code",
   "execution_count": 1,
   "metadata": {},
   "outputs": [
    {
     "data": {
      "application/javascript": "\n    var cell = Jupyter.notebook.insert_cell_below('markdown');\n    cell.set_text(`# Esto es una nueva celda de Markdown\n- Lista 1\n- Lista 2`);\n    Jupyter.notebook.execute_cell();\n    ",
      "text/plain": [
       "<IPython.core.display.Javascript object>"
      ]
     },
     "metadata": {},
     "output_type": "display_data"
    }
   ],
   "source": [
    "from IPython.display import display, Javascript\n",
    "\n",
    "def create_markdown_cell(content):\n",
    "    \"\"\"\n",
    "    Inserta una celda de Markdown justo después de la celda que se ejecuta.\n",
    "    \"\"\"\n",
    "    js_code = f'''\n",
    "    var cell = Jupyter.notebook.insert_cell_below('markdown');\n",
    "    cell.set_text(`{content}`);\n",
    "    Jupyter.notebook.execute_cell();\n",
    "    '''\n",
    "    display(Javascript(js_code))\n",
    "\n",
    "# Ejemplo: Crear una celda de Markdown con texto\n",
    "create_markdown_cell(\"# Esto es una nueva celda de Markdown\\n- Lista 1\\n- Lista 2\")\n"
   ]
  },
  {
   "cell_type": "code",
   "execution_count": null,
   "metadata": {},
   "outputs": [],
   "source": []
  },
  {
   "cell_type": "code",
   "execution_count": 1,
   "metadata": {},
   "outputs": [
    {
     "name": "stdout",
     "output_type": "stream",
     "text": [
      "1\n",
      "2\n",
      "3\n",
      "4\n",
      "5\n"
     ]
    }
   ],
   "source": [
    "def contador(maximo):\n",
    "    contador_actual = 1\n",
    "    while contador_actual <= maximo:\n",
    "        yield contador_actual\n",
    "        contador_actual += 1\n",
    "\n",
    "# Crear un generador\n",
    "generador = contador(5)\n",
    "\n",
    "# Consumir los valores\n",
    "for numero in generador:\n",
    "    print(numero)\n",
    "\n",
    "# Salida:\n",
    "# 1\n",
    "# 2\n",
    "# 3\n",
    "# 4\n",
    "# 5\n"
   ]
  },
  {
   "cell_type": "code",
   "execution_count": null,
   "metadata": {},
   "outputs": [],
   "source": []
  },
  {
   "cell_type": "code",
   "execution_count": null,
   "metadata": {},
   "outputs": [],
   "source": []
  }
 ],
 "metadata": {
  "kernelspec": {
   "display_name": "venv",
   "language": "python",
   "name": "python3"
  },
  "language_info": {
   "codemirror_mode": {
    "name": "ipython",
    "version": 3
   },
   "file_extension": ".py",
   "mimetype": "text/x-python",
   "name": "python",
   "nbconvert_exporter": "python",
   "pygments_lexer": "ipython3",
   "version": "3.12.3"
  }
 },
 "nbformat": 4,
 "nbformat_minor": 2
}
