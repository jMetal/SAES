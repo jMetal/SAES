{
 "cells": [
  {
   "cell_type": "markdown",
   "metadata": {},
   "source": [
    "# SAES for Multiobjective Optimization algorithms Benchmarking"
   ]
  },
  {
   "cell_type": "markdown",
   "metadata": {},
   "source": [
    "This notebook provides an example of how to use the SAES library. As case study, we will use the data of the paper [On the automatic design of multi-objective particle swarm optimizers: experimentation and analysis](https://doi.org/10.1007/s11721-023-00227-2), published in Swarm Intelligence in 2023. In this paper, a comparative study of multi-objective particle swarm optimizers (MOPSO) is conducted, where four of MOPSO variants are compared with algorithms NSGAII, SMPSO and OMOPSO. The computed metrics for performace assessment are six multi-objective quality indicators: EP (additive epsilon), GD (generational distance), SP (spacing), HV (hypervolume), NHV (normalized hypervolume), IGD (inverted generational distance) and IGD+ (inverted generational distance plus). All theses metrics are intended to be minimized but the HV.  \n",
    "\n",
    "To use SAES, two files CSV files with the following contents are required:\n",
    "- Metric names and whether they have to maximized or not\n",
    "- Experiment data: algorithm, instance, MetricName, executionID, and MetricValue\n",
    "\n",
    "We use the files called `metrics.csv` and `swarmIntelligence.csv` in this example, and we will use them to illustrate the main features of SAES: boxplot, LaTeX tables and critical distance graph generation."
   ]
  },
  {
   "cell_type": "markdown",
   "metadata": {},
   "source": [
    "## Load the Data"
   ]
  },
  {
   "cell_type": "code",
   "execution_count": 1,
   "metadata": {},
   "outputs": [],
   "source": [
    "from IPython.display import Markdown\n",
    "import matplotlib.pyplot as plt\n",
    "from pathlib import Path\n",
    "from PIL import Image\n",
    "import pandas as pd\n",
    "\n",
    "from SAES.plots.boxplot import boxplot_csv_metric\n",
    "from SAES.plots.critical_distance_plot import CDplot_csv_metrics\n",
    "from SAES.latex_generation.latex_skeleton import create_tables_latex_metric"
   ]
  },
  {
   "cell_type": "code",
   "execution_count": 2,
   "metadata": {},
   "outputs": [
    {
     "data": {
      "text/html": [
       "<div>\n",
       "<style scoped>\n",
       "    .dataframe tbody tr th:only-of-type {\n",
       "        vertical-align: middle;\n",
       "    }\n",
       "\n",
       "    .dataframe tbody tr th {\n",
       "        vertical-align: top;\n",
       "    }\n",
       "\n",
       "    .dataframe thead th {\n",
       "        text-align: right;\n",
       "    }\n",
       "</style>\n",
       "<table border=\"1\" class=\"dataframe\">\n",
       "  <thead>\n",
       "    <tr style=\"text-align: right;\">\n",
       "      <th></th>\n",
       "      <th>Algorithm</th>\n",
       "      <th>Instance</th>\n",
       "      <th>MetricName</th>\n",
       "      <th>ExecutionId</th>\n",
       "      <th>MetricValue</th>\n",
       "    </tr>\n",
       "  </thead>\n",
       "  <tbody>\n",
       "    <tr>\n",
       "      <th>0</th>\n",
       "      <td>NSGAII</td>\n",
       "      <td>ZDT1</td>\n",
       "      <td>EP</td>\n",
       "      <td>0</td>\n",
       "      <td>2.082913e-02</td>\n",
       "    </tr>\n",
       "    <tr>\n",
       "      <th>1</th>\n",
       "      <td>NSGAII</td>\n",
       "      <td>ZDT1</td>\n",
       "      <td>EP</td>\n",
       "      <td>1</td>\n",
       "      <td>2.141113e-02</td>\n",
       "    </tr>\n",
       "    <tr>\n",
       "      <th>2</th>\n",
       "      <td>NSGAII</td>\n",
       "      <td>ZDT1</td>\n",
       "      <td>EP</td>\n",
       "      <td>2</td>\n",
       "      <td>2.063581e-02</td>\n",
       "    </tr>\n",
       "    <tr>\n",
       "      <th>3</th>\n",
       "      <td>NSGAII</td>\n",
       "      <td>ZDT1</td>\n",
       "      <td>EP</td>\n",
       "      <td>3</td>\n",
       "      <td>2.334370e-02</td>\n",
       "    </tr>\n",
       "    <tr>\n",
       "      <th>4</th>\n",
       "      <td>NSGAII</td>\n",
       "      <td>ZDT1</td>\n",
       "      <td>EP</td>\n",
       "      <td>4</td>\n",
       "      <td>2.589423e-02</td>\n",
       "    </tr>\n",
       "    <tr>\n",
       "      <th>...</th>\n",
       "      <td>...</td>\n",
       "      <td>...</td>\n",
       "      <td>...</td>\n",
       "      <td>...</td>\n",
       "      <td>...</td>\n",
       "    </tr>\n",
       "    <tr>\n",
       "      <th>31845</th>\n",
       "      <td>AutoMOPSOZ</td>\n",
       "      <td>RE25</td>\n",
       "      <td>IGD+</td>\n",
       "      <td>20</td>\n",
       "      <td>3.565453e-08</td>\n",
       "    </tr>\n",
       "    <tr>\n",
       "      <th>31846</th>\n",
       "      <td>AutoMOPSOZ</td>\n",
       "      <td>RE25</td>\n",
       "      <td>IGD+</td>\n",
       "      <td>21</td>\n",
       "      <td>7.454758e-08</td>\n",
       "    </tr>\n",
       "    <tr>\n",
       "      <th>31847</th>\n",
       "      <td>AutoMOPSOZ</td>\n",
       "      <td>RE25</td>\n",
       "      <td>IGD+</td>\n",
       "      <td>22</td>\n",
       "      <td>1.243545e-07</td>\n",
       "    </tr>\n",
       "    <tr>\n",
       "      <th>31848</th>\n",
       "      <td>AutoMOPSOZ</td>\n",
       "      <td>RE25</td>\n",
       "      <td>IGD+</td>\n",
       "      <td>23</td>\n",
       "      <td>3.372467e-08</td>\n",
       "    </tr>\n",
       "    <tr>\n",
       "      <th>31849</th>\n",
       "      <td>AutoMOPSOZ</td>\n",
       "      <td>RE25</td>\n",
       "      <td>IGD+</td>\n",
       "      <td>24</td>\n",
       "      <td>1.224664e-07</td>\n",
       "    </tr>\n",
       "  </tbody>\n",
       "</table>\n",
       "<p>31850 rows × 5 columns</p>\n",
       "</div>"
      ],
      "text/plain": [
       "        Algorithm Instance MetricName  ExecutionId   MetricValue\n",
       "0          NSGAII     ZDT1         EP            0  2.082913e-02\n",
       "1          NSGAII     ZDT1         EP            1  2.141113e-02\n",
       "2          NSGAII     ZDT1         EP            2  2.063581e-02\n",
       "3          NSGAII     ZDT1         EP            3  2.334370e-02\n",
       "4          NSGAII     ZDT1         EP            4  2.589423e-02\n",
       "...           ...      ...        ...          ...           ...\n",
       "31845  AutoMOPSOZ     RE25       IGD+           20  3.565453e-08\n",
       "31846  AutoMOPSOZ     RE25       IGD+           21  7.454758e-08\n",
       "31847  AutoMOPSOZ     RE25       IGD+           22  1.243545e-07\n",
       "31848  AutoMOPSOZ     RE25       IGD+           23  3.372467e-08\n",
       "31849  AutoMOPSOZ     RE25       IGD+           24  1.224664e-07\n",
       "\n",
       "[31850 rows x 5 columns]"
      ]
     },
     "execution_count": 2,
     "metadata": {},
     "output_type": "execute_result"
    }
   ],
   "source": [
    "# Load the experiment data\n",
    "experimentData = pd.read_csv('swarmIntelligence.csv')\n",
    "experimentData"
   ]
  },
  {
   "cell_type": "code",
   "execution_count": 3,
   "metadata": {},
   "outputs": [
    {
     "data": {
      "text/plain": [
       "['NSGAII',\n",
       " 'SMPSO',\n",
       " 'OMOPSO',\n",
       " 'AutoMOPSOD',\n",
       " 'AutoMOPSOW',\n",
       " 'AutoMOPSORE',\n",
       " 'AutoMOPSOZ']"
      ]
     },
     "execution_count": 3,
     "metadata": {},
     "output_type": "execute_result"
    }
   ],
   "source": [
    "# Compared algoritms\n",
    "algorithms = experimentData.Algorithm\n",
    "list(algorithms.unique())"
   ]
  },
  {
   "cell_type": "code",
   "execution_count": 4,
   "metadata": {},
   "outputs": [
    {
     "name": "stdout",
     "output_type": "stream",
     "text": [
      "<class 'pandas.core.frame.DataFrame'>\n",
      "RangeIndex: 31850 entries, 0 to 31849\n",
      "Data columns (total 5 columns):\n",
      " #   Column       Non-Null Count  Dtype  \n",
      "---  ------       --------------  -----  \n",
      " 0   Algorithm    31850 non-null  object \n",
      " 1   Instance     31850 non-null  object \n",
      " 2   MetricName   31850 non-null  object \n",
      " 3   ExecutionId  31850 non-null  int64  \n",
      " 4   MetricValue  31850 non-null  float64\n",
      "dtypes: float64(1), int64(1), object(3)\n",
      "memory usage: 1.2+ MB\n"
     ]
    }
   ],
   "source": [
    "experimentData.info()"
   ]
  },
  {
   "cell_type": "code",
   "execution_count": 5,
   "metadata": {},
   "outputs": [
    {
     "data": {
      "text/html": [
       "<div>\n",
       "<style scoped>\n",
       "    .dataframe tbody tr th:only-of-type {\n",
       "        vertical-align: middle;\n",
       "    }\n",
       "\n",
       "    .dataframe tbody tr th {\n",
       "        vertical-align: top;\n",
       "    }\n",
       "\n",
       "    .dataframe thead th {\n",
       "        text-align: right;\n",
       "    }\n",
       "</style>\n",
       "<table border=\"1\" class=\"dataframe\">\n",
       "  <thead>\n",
       "    <tr style=\"text-align: right;\">\n",
       "      <th></th>\n",
       "      <th>Algorithm</th>\n",
       "      <th>Instance</th>\n",
       "      <th>MetricName</th>\n",
       "      <th>ExecutionId</th>\n",
       "      <th>MetricValue</th>\n",
       "    </tr>\n",
       "  </thead>\n",
       "  <tbody>\n",
       "    <tr>\n",
       "      <th>0</th>\n",
       "      <td>NSGAII</td>\n",
       "      <td>ZDT1</td>\n",
       "      <td>EP</td>\n",
       "      <td>0</td>\n",
       "      <td>2.082913e-02</td>\n",
       "    </tr>\n",
       "    <tr>\n",
       "      <th>1</th>\n",
       "      <td>NSGAII</td>\n",
       "      <td>ZDT1</td>\n",
       "      <td>EP</td>\n",
       "      <td>1</td>\n",
       "      <td>2.141113e-02</td>\n",
       "    </tr>\n",
       "    <tr>\n",
       "      <th>2</th>\n",
       "      <td>NSGAII</td>\n",
       "      <td>ZDT1</td>\n",
       "      <td>EP</td>\n",
       "      <td>2</td>\n",
       "      <td>2.063581e-02</td>\n",
       "    </tr>\n",
       "    <tr>\n",
       "      <th>3</th>\n",
       "      <td>NSGAII</td>\n",
       "      <td>ZDT1</td>\n",
       "      <td>EP</td>\n",
       "      <td>3</td>\n",
       "      <td>2.334370e-02</td>\n",
       "    </tr>\n",
       "    <tr>\n",
       "      <th>4</th>\n",
       "      <td>NSGAII</td>\n",
       "      <td>ZDT1</td>\n",
       "      <td>EP</td>\n",
       "      <td>4</td>\n",
       "      <td>2.589423e-02</td>\n",
       "    </tr>\n",
       "    <tr>\n",
       "      <th>...</th>\n",
       "      <td>...</td>\n",
       "      <td>...</td>\n",
       "      <td>...</td>\n",
       "      <td>...</td>\n",
       "      <td>...</td>\n",
       "    </tr>\n",
       "    <tr>\n",
       "      <th>31845</th>\n",
       "      <td>AutoMOPSOZ</td>\n",
       "      <td>RE25</td>\n",
       "      <td>IGD+</td>\n",
       "      <td>20</td>\n",
       "      <td>3.565453e-08</td>\n",
       "    </tr>\n",
       "    <tr>\n",
       "      <th>31846</th>\n",
       "      <td>AutoMOPSOZ</td>\n",
       "      <td>RE25</td>\n",
       "      <td>IGD+</td>\n",
       "      <td>21</td>\n",
       "      <td>7.454758e-08</td>\n",
       "    </tr>\n",
       "    <tr>\n",
       "      <th>31847</th>\n",
       "      <td>AutoMOPSOZ</td>\n",
       "      <td>RE25</td>\n",
       "      <td>IGD+</td>\n",
       "      <td>22</td>\n",
       "      <td>1.243545e-07</td>\n",
       "    </tr>\n",
       "    <tr>\n",
       "      <th>31848</th>\n",
       "      <td>AutoMOPSOZ</td>\n",
       "      <td>RE25</td>\n",
       "      <td>IGD+</td>\n",
       "      <td>23</td>\n",
       "      <td>3.372467e-08</td>\n",
       "    </tr>\n",
       "    <tr>\n",
       "      <th>31849</th>\n",
       "      <td>AutoMOPSOZ</td>\n",
       "      <td>RE25</td>\n",
       "      <td>IGD+</td>\n",
       "      <td>24</td>\n",
       "      <td>1.224664e-07</td>\n",
       "    </tr>\n",
       "  </tbody>\n",
       "</table>\n",
       "<p>31850 rows × 5 columns</p>\n",
       "</div>"
      ],
      "text/plain": [
       "        Algorithm Instance MetricName  ExecutionId   MetricValue\n",
       "0          NSGAII     ZDT1         EP            0  2.082913e-02\n",
       "1          NSGAII     ZDT1         EP            1  2.141113e-02\n",
       "2          NSGAII     ZDT1         EP            2  2.063581e-02\n",
       "3          NSGAII     ZDT1         EP            3  2.334370e-02\n",
       "4          NSGAII     ZDT1         EP            4  2.589423e-02\n",
       "...           ...      ...        ...          ...           ...\n",
       "31845  AutoMOPSOZ     RE25       IGD+           20  3.565453e-08\n",
       "31846  AutoMOPSOZ     RE25       IGD+           21  7.454758e-08\n",
       "31847  AutoMOPSOZ     RE25       IGD+           22  1.243545e-07\n",
       "31848  AutoMOPSOZ     RE25       IGD+           23  3.372467e-08\n",
       "31849  AutoMOPSOZ     RE25       IGD+           24  1.224664e-07\n",
       "\n",
       "[31850 rows x 5 columns]"
      ]
     },
     "execution_count": 5,
     "metadata": {},
     "output_type": "execute_result"
    }
   ],
   "source": [
    "experimentData"
   ]
  },
  {
   "cell_type": "code",
   "execution_count": 6,
   "metadata": {},
   "outputs": [
    {
     "data": {
      "text/html": [
       "<div>\n",
       "<style scoped>\n",
       "    .dataframe tbody tr th:only-of-type {\n",
       "        vertical-align: middle;\n",
       "    }\n",
       "\n",
       "    .dataframe tbody tr th {\n",
       "        vertical-align: top;\n",
       "    }\n",
       "\n",
       "    .dataframe thead th {\n",
       "        text-align: right;\n",
       "    }\n",
       "</style>\n",
       "<table border=\"1\" class=\"dataframe\">\n",
       "  <thead>\n",
       "    <tr style=\"text-align: right;\">\n",
       "      <th></th>\n",
       "      <th>MetricName</th>\n",
       "      <th>Maximize</th>\n",
       "    </tr>\n",
       "  </thead>\n",
       "  <tbody>\n",
       "    <tr>\n",
       "      <th>0</th>\n",
       "      <td>EP</td>\n",
       "      <td>False</td>\n",
       "    </tr>\n",
       "    <tr>\n",
       "      <th>1</th>\n",
       "      <td>SP</td>\n",
       "      <td>False</td>\n",
       "    </tr>\n",
       "    <tr>\n",
       "      <th>2</th>\n",
       "      <td>GD</td>\n",
       "      <td>False</td>\n",
       "    </tr>\n",
       "    <tr>\n",
       "      <th>3</th>\n",
       "      <td>HV</td>\n",
       "      <td>True</td>\n",
       "    </tr>\n",
       "    <tr>\n",
       "      <th>4</th>\n",
       "      <td>NHV</td>\n",
       "      <td>False</td>\n",
       "    </tr>\n",
       "    <tr>\n",
       "      <th>5</th>\n",
       "      <td>IGD</td>\n",
       "      <td>False</td>\n",
       "    </tr>\n",
       "    <tr>\n",
       "      <th>6</th>\n",
       "      <td>IGD+</td>\n",
       "      <td>False</td>\n",
       "    </tr>\n",
       "  </tbody>\n",
       "</table>\n",
       "</div>"
      ],
      "text/plain": [
       "  MetricName  Maximize\n",
       "0         EP     False\n",
       "1         SP     False\n",
       "2         GD     False\n",
       "3         HV      True\n",
       "4        NHV     False\n",
       "5        IGD     False\n",
       "6       IGD+     False"
      ]
     },
     "execution_count": 6,
     "metadata": {},
     "output_type": "execute_result"
    }
   ],
   "source": [
    "# Load the metrics (quality indicators) data\n",
    "metrics = pd.read_csv('metrics.csv')\n",
    "metrics"
   ]
  },
  {
   "cell_type": "markdown",
   "metadata": {},
   "source": [
    "## Boxplot Graph"
   ]
  },
  {
   "cell_type": "markdown",
   "metadata": {},
   "source": [
    "A **boxplot**, also known as a **box-and-whisker plot**, is a graphical tool used to summarize and visualize the distribution of a dataset. It allows you to identify key features such as central tendency, variability, and the presence of outliers, offering a simple way to interpret the data.\n",
    "\n",
    "The **main body of the boxplot** is the box, which represents the **interquartile range (IQR)**, the range between the first quartile (**Q1**) and the third quartile (**Q3**). This area contains the middle 50% of the data. Inside the box, a line indicates the **median** (second quartile, **Q2**), the value that divides the data into two equal halves. The **whiskers** extend from the box to the smallest and largest values that are within 1.5 times the IQR from Q1 or Q3, respectively. Points outside this range are considered **outliers** and are often shown as individual points.\n",
    "\n",
    "The **interpretation of the boxplot** depends on the context and the goal of the analysis. If the goal is to **maximize** a metric (such as profit or performance), attention should be paid to the higher values, both within the box and in the upper whiskers or outliers. On the other hand, if the goal is to **minimize** (such as errors or costs), the focus should be on the lower values. Additionally, the position of the median within the box can indicate the skewness of the data: if it is closer to Q1 or Q3, the distribution is not symmetrical."
   ]
  },
  {
   "cell_type": "code",
   "execution_count": 7,
   "metadata": {},
   "outputs": [
    {
     "name": "stderr",
     "output_type": "stream",
     "text": [
      "[2025-01-14 12:22:16,887] [SAES.plots.boxplot] [INFO] Boxplots for metric EP saved to /home/khaosdev/algorithm-benchmark-toolkit/notebooks/outputs/boxplots/EP\n"
     ]
    }
   ],
   "source": [
    "output_dir = boxplot_csv_metric(experimentData, metrics, 'EP')"
   ]
  },
  {
   "cell_type": "code",
   "execution_count": 8,
   "metadata": {},
   "outputs": [
    {
     "data": {
      "image/png": "[encoded data removed]",
      "text/plain": [
       "<Figure size 2000x1000 with 3 Axes>"
      ]
     },
     "metadata": {},
     "output_type": "display_data"
    }
   ],
   "source": [
    "# Display the first 3 boxplots only\n",
    "files = list(Path(output_dir).iterdir())[0:3]\n",
    "\n",
    "# Create the figure and axes\n",
    "fig, axes = plt.subplots(1, 3, figsize=(20, 10))\n",
    "\n",
    "# Load the images and display them\n",
    "for ax, file in zip(axes, files):\n",
    "    ax.imshow(Image.open(file))\n",
    "    ax.axis('off')  \n",
    "\n",
    "# Display the figure\n",
    "plt.tight_layout()\n",
    "plt.show()"
   ]
  },
  {
   "cell_type": "markdown",
   "metadata": {},
   "source": [
    "## Critical Distance Graph"
   ]
  },
  {
   "cell_type": "markdown",
   "metadata": {},
   "source": [
    "A critical distance (CD) graph is used to compare the performance of multiple algorithms statistically. It is typically generated using the Nemenyi test, which is a post-hoc test applied after a Friedman test has shown significant differences between algorithms. \n",
    "\n",
    "In this graph:\n",
    "- Each algorithm is assigned a rank based on its performance on a metric (e.g., accuracy, hypervolume, etc.) across multiple datasets or experiments.\n",
    "- The average rank of each algorithm is plotted on a horizontal axis.\n",
    "- A critical distance (CD) value is calculated, representing the threshold for statistically significant differences between algorithm ranks.\n",
    "- Algorithms connected by horizontal lines are statistically indistinguishable within the critical distance, meaning their performance differences are not significant at the chosen confidence level."
   ]
  },
  {
   "cell_type": "code",
   "execution_count": 9,
   "metadata": {},
   "outputs": [
    {
     "data": {
      "image/png": "[encoded data removed]",
      "text/plain": [
       "<Figure size 600x287.5 with 1 Axes>"
      ]
     },
     "metadata": {},
     "output_type": "display_data"
    },
    {
     "name": "stderr",
     "output_type": "stream",
     "text": [
      "[2025-01-14 12:22:17,545] [SAES.plots.critical_distance_plot] [INFO] Critical distance for metric HV saved in /home/khaosdev/algorithm-benchmark-toolkit/notebooks/outputs/critical_distance\n"
     ]
    }
   ],
   "source": [
    "output_dir = CDplot_csv_metrics(experimentData, metrics, 'HV')"
   ]
  },
  {
   "cell_type": "markdown",
   "metadata": {},
   "source": [
    "### Interpretation of the Provided Critical Distance Graph\n",
    "\n",
    "This graph compares multiple multi-objective optimization algorithms (e.g., NSGAII, AutoMOPSOW, SMPSO, etc.) based on their performance in maximizing the hypervolume metric.\n",
    "\n",
    "#### Key Observations:\n",
    "1. **Critical Distance (CD):**\n",
    "   - The CD is 1.787, as shown at the top of the graph. Algorithms whose ranks differ by less than 1.787 are not significantly different in performance.\n",
    "\n",
    "2. **Ranking of Algorithms:**\n",
    "   - The x-axis represents the average rank of each algorithm. Lower ranks are better, indicating better performance.\n",
    "   - The red group (NSGAII, SMPSO, etc) has lower ranks, suggesting they perform better in minimizing hypervolume compared to the red group (AutoMOPSOZ, AutoMOPSOD, etc.).\n",
    "\n",
    "3. **Critical Distance line:**\n",
    "   - The key aspect of this graph are the blue critical distance lines. They connect algorithms whose distance is lower than the critical distance (CD), meaning that those connedted have a performance statistically indistinguishable. \n",
    "   - For example, in the red group we have NSGAII which is the leader in rank. However its performance is statistically indistinguishable to AutoMOPSOD from the green group because they are connected through a blue line.\n",
    "\n",
    "#### Summary:\n",
    "The critical distance graph demonstrates that:\n",
    "- Within each group (red or green), the algorithms perform similarly, with no statistically significant differences.\n",
    "- Algorithms from different groups connedted by the blue line are statistically indistinguishable from one another."
   ]
  },
  {
   "cell_type": "markdown",
   "metadata": {},
   "source": [
    "## LaTeX report Generation"
   ]
  },
  {
   "cell_type": "markdown",
   "metadata": {},
   "source": [
    "Lastly, we offer a variety of LaTeX reports tailored for different purposes, including scientific articles and presentations (take into account that only the .tex source code is provided and you will need an external tool like overleaf to render the LaTeX code into pdf format). Below are the four types of LaTeX reports you can generate, along with a brief explanation of each:  \n",
    "\n",
    "1. **Median Table**  \n",
    "   - **Description**: Displays the median results of the experimental data in a structured tabular format.  \n",
    "   - **Purpose**: Useful for summarizing central tendencies of your results and providing a quick overview.  \n",
    "   - **Use Case**: Suitable for basic comparative analysis in situations where medians are the primary focus.\n",
    "\n",
    "2. **Median Table with Friedman Test**  \n",
    "   - **Description**: Extends the median table by incorporating the Friedman test results.  \n",
    "   - **Purpose**: Highlights significant differences among multiple groups or algorithms, assuming a non-parametric distribution.  \n",
    "   - **Use Case**: Ideal for analyzing and reporting results where ranking of methods or treatments is necessary.  \n",
    "\n",
    "3. **Median Table with Wilcoxon Pairwise Test (Pivot-Based)**  \n",
    "   - **Description**: Combines the median table with the results of Wilcoxon signed-rank pairwise tests using a pivot-based approach.  \n",
    "   - **Purpose**: Provides insights into pairwise comparisons of the experimental groups relative to a designated pivot group.  \n",
    "   - **Use Case**: Valuable for scenarios requiring focused comparisons against a baseline or reference algorithm.  \n",
    "\n",
    "4. **Pairwise Wilcoxon Test Table (1-to-1 Comparison)**  \n",
    "   - **Description**: Presents pairwise Wilcoxon signed-rank test results for direct 1-to-1 comparisons between groups.  \n",
    "   - **Purpose**: Offers detailed insights into individual pair comparisons without the need for a pivot.  \n",
    "   - **Use Case**: Suitable for comprehensive pairwise statistical analysis in experimental studies.  "
   ]
  },
  {
   "cell_type": "code",
   "execution_count": 10,
   "metadata": {},
   "outputs": [
    {
     "name": "stderr",
     "output_type": "stream",
     "text": [
      "[2025-01-14 12:22:20,147] [SAES.latex_generation.latex_skeleton] [INFO] LaTeX document for metric EP saved to /home/khaosdev/algorithm-benchmark-toolkit/notebooks/outputs/latex/EP\n"
     ]
    }
   ],
   "source": [
    "output_dir = create_tables_latex_metric(experimentData, metrics, 'EP')"
   ]
  },
  {
   "cell_type": "code",
   "execution_count": 11,
   "metadata": {},
   "outputs": [
    {
     "data": {
      "text/markdown": [
       "```latex\n",
       "\n",
       "    \\documentclass{article}\n",
       "    \\title{AlgorithmsComparison}\n",
       "    \\usepackage{colortbl}\n",
       "    \\usepackage{float}\n",
       "    \\usepackage[table*]{xcolor}\n",
       "    \\usepackage{tabularx}\n",
       "    \\xdefinecolor{gray95}{gray}{0.65}\n",
       "    \\xdefinecolor{gray25}{gray}{0.8}\n",
       "    \\author{YourName}\n",
       "    \\begin{document}\n",
       "    \\maketitle\n",
       "    \\section{Tables}\n",
       "    \\begin{table}[H]\n",
       "    \\caption{EP. Wilconxon Test 1vs1 (EP)}\n",
       "    \\vspace{1mm}\n",
       "    \\centering\n",
       "    \\begin{scriptsize}\n",
       "    \\begin{tabular}{l|c|c|c|c|c|c}\n",
       "    \\hline\n",
       "    & Algorithm B & Algorithm C & Algorithm D & Algorithm E & Algorithm F & Algorithm G \\\\ \\hline\n",
       "Algorithm A & \\texttt{=+-++++++++++++-+++=+++=++} & \\texttt{++--+-+-+++++++-+++=+++-++} & \\texttt{+=+++++++++++++-+++++++-+-} & \\texttt{=---+-+-=+==+++-+++=+++-+-} & \\texttt{=+--+-+-+++=+++-+++=+++-++} & \\texttt{+++-+-+-+++++++-+++=+++-+-} \\\\\n",
       "Algorithm B &  & \\texttt{=-+-+-=--==-+++++++-+++=+=} & \\texttt{+=+++=++++++=++===+++==-+-} & \\texttt{=-=-+------=++++=++-+++-+-} & \\texttt{===-+-=--=+=++++=++-+++-++} & \\texttt{+++-+----=++++++=++=+++-+-} \\\\\n",
       "Algorithm C & \\texttt{} &  & \\texttt{+=++=+++++++=------+-=--+-} & \\texttt{=-==+=-=---=++++-++=+++-+-} & \\texttt{==--+=====+=+=++-++=+++-++} & \\texttt{+++-+---==++++++-++=+++-+-} \\\\\n",
       "Algorithm D & \\texttt{} & \\texttt{} &  & \\texttt{----+-------++++=++-+++-+-} & \\texttt{-=--+-----=-++++=++-+++-++} & \\texttt{+++-+-----++++++=++-+++-+-} \\\\\n",
       "Algorithm E & \\texttt{} & \\texttt{} & \\texttt{} &  & \\texttt{=+-===+=+++==---=--=-++==+} & \\texttt{+++-+-=-+++++---==-=-=++==} \\\\\n",
       "Algorithm F & \\texttt{} & \\texttt{} & \\texttt{} & \\texttt{} &  & \\texttt{+++-=---===++++==+====-+=-} \\\\\n",
       "\n",
       "    \\hline\n",
       "    \\end{tabular}\n",
       "    \\end{scriptsize}\n",
       "    \\vspace{2mm}\n",
       "    \\small\n",
       "    \\begin{itemize}\n",
       "    \\item \\texttt{Algorithm A} : NSGAII\n",
       "\\item \\texttt{Algorithm B} : SMPSO\n",
       "\\item \\texttt{Algorithm C} : OMOPSO\n",
       "\\item \\texttt{Algorithm D} : AutoMOPSOD\n",
       "\\item \\texttt{Algorithm E} : AutoMOPSOW\n",
       "\\item \\texttt{Algorithm F} : AutoMOPSORE\n",
       "\\item \\texttt{Algorithm G} : AutoMOPSOZ\n",
       "\\item \\texttt{Instances (in order)} : ['ZDT1', 'ZDT2', 'ZDT3', 'ZDT4', 'ZDT6', 'DTLZ1', 'DTLZ2', 'DTLZ3', 'DTLZ4', 'DTLZ5', 'DTLZ6', 'DTLZ7', 'WFG1', 'WFG2', 'WFG3', 'WFG4', 'WFG5', 'WFG6', 'WFG7', 'WFG8', 'WFG9', 'RE21', 'RE22', 'RE23', 'RE24', 'RE25']\n",
       "\\item \\texttt{Algorithm (row) vs Algorithm (column) = + implies Algorithm (row) better than Algorithm (column)}\n",
       "\n",
       "    \\end{itemize}\n",
       "    \\end{table}\n",
       "    \n",
       "    \\end{document}\n",
       "    \n",
       "```"
      ],
      "text/plain": [
       "<IPython.core.display.Markdown object>"
      ]
     },
     "execution_count": 11,
     "metadata": {},
     "output_type": "execute_result"
    }
   ],
   "source": [
    "# Choose just one .tex file to display\n",
    "files = list(Path(output_dir).iterdir())\n",
    "file_path = files[0]\n",
    "\n",
    "# Read the content of the file\n",
    "with open(file_path, \"r\") as file:\n",
    "    tex_content = file.read()\n",
    "\n",
    "# Display the content of the file\n",
    "Markdown(f\"```latex\\n{tex_content}\\n```\")"
   ]
  }
 ],
 "metadata": {
  "kernelspec": {
   "display_name": "venv",
   "language": "python",
   "name": "python3"
  },
  "language_info": {
   "codemirror_mode": {
    "name": "ipython",
    "version": 3
   },
   "file_extension": ".py",
   "mimetype": "text/x-python",
   "name": "python",
   "nbconvert_exporter": "python",
   "pygments_lexer": "ipython3",
   "version": "3.10.12"
  }
 },
 "nbformat": 4,
 "nbformat_minor": 2
}
