{
 "cells": [
  {
   "cell_type": "code",
   "execution_count": 1,
   "metadata": {},
   "outputs": [],
   "source": [
    "from algorithm_benchmark_toolkit.latex_generator import create_tables_latex_metrics"
   ]
  },
  {
   "cell_type": "code",
   "execution_count": 2,
   "metadata": {},
   "outputs": [],
   "source": [
    "data = \"data.csv\"\n",
    "metrics = \"metrics.csv\"\n",
    "create_tables_latex_metrics(data, metrics)"
   ]
  },
  {
   "cell_type": "markdown",
   "metadata": {},
   "source": [
    "## IF YOU HAVE LATEX INSTALLED IN YOUR SYSTEM"
   ]
  },
  {
   "cell_type": "code",
   "execution_count": 3,
   "metadata": {},
   "outputs": [
    {
     "name": "stdout",
     "output_type": "stream",
     "text": [
      "This is pdfTeX, Version 3.141592653-2.6-1.40.22 (TeX Live 2022/dev/Debian) (preloaded format=pdflatex)\n",
      " restricted \\write18 enabled.\n",
      "entering extended mode\n",
      "(./outputs/tables/Median&std_table_Java.tex\n",
      "LaTeX2e <2021-11-15> patch level 1\n",
      "L3 programming layer <2022-01-21>\n",
      "(/usr/share/texlive/texmf-dist/tex/latex/base/article.cls\n",
      "Document Class: article 2021/10/04 v1.4n Standard LaTeX document class\n",
      "(/usr/share/texlive/texmf-dist/tex/latex/base/size10.clo))\n",
      "(/usr/share/texlive/texmf-dist/tex/latex/colortbl/colortbl.sty\n",
      "(/usr/share/texlive/texmf-dist/tex/latex/tools/array.sty)\n",
      "(/usr/share/texlive/texmf-dist/tex/latex/graphics/color.sty\n",
      "(/usr/share/texlive/texmf-dist/tex/latex/graphics-cfg/color.cfg)\n",
      "(/usr/share/texlive/texmf-dist/tex/latex/graphics-def/pdftex.def)))\n",
      "(/usr/share/texlive/texmf-dist/tex/latex/float/float.sty)\n",
      "(/usr/share/texlive/texmf-dist/tex/latex/xcolor/xcolor.sty\n",
      "(/usr/share/texlive/texmf-dist/tex/latex/graphics-cfg/color.cfg))\n",
      "(/usr/share/texlive/texmf-dist/tex/latex/tools/tabularx.sty)\n",
      "(/usr/share/texlive/texmf-dist/tex/latex/l3backend/l3backend-pdftex.def)\n",
      "No file Median&std_table_Java.aux.\n",
      "(/usr/share/texlive/texmf-dist/tex/context/base/mkii/supp-pdf.mkii\n",
      "[Loading MPS to PDF converter (version 2006.09.02).]\n",
      ")\n",
      "Underfull \\hbox (badness 10000) in paragraph at lines 74--75\n",
      "[]\\OT1/cmtt/m/n/9 + implies that the difference between the algorithms for the\n",
      "\n",
      "Underfull \\hbox (badness 10000) in paragraph at lines 108--109\n",
      "[]\\OT1/cmtt/m/n/9 + implies that the pivot algorithm (last column) was worse th\n",
      "an the\n",
      "[1{/var/lib/texmf/fonts/map/pdftex/updmap/pdftex.map}]\n",
      "Underfull \\hbox (badness 2111) in paragraph at lines 133--134\n",
      "\\OT1/cmr/m/n/9 'Padhi2016', 'Gao2020', 'Xu2020', 'Vaidyanathan2004', 'Chen2015'\n",
      ", 'Ah-\n",
      "\n",
      "Underfull \\hbox (badness 10000) in paragraph at lines 134--135\n",
      "[]\\OT1/cmtt/m/n/9 Algorithm (row) vs Algorithm (column) = + implies Algorithm (\n",
      "row)\n",
      "[2] (./Median&std_table_Java.aux) )\n",
      "(see the transcript file for additional information) </home/khaosdev/.texlive20\n",
      "21/texmf-var/fonts/pk/ljfour/jknappen/ec/tcrm0900.600pk></usr/share/texlive/tex\n",
      "mf-dist/fonts/type1/public/amsfonts/cm/cmbx12.pfb></usr/share/texlive/texmf-dis\n",
      "t/fonts/type1/public/amsfonts/cm/cmbx7.pfb></usr/share/texlive/texmf-dist/fonts\n",
      "/type1/public/amsfonts/cm/cmmi5.pfb></usr/share/texlive/texmf-dist/fonts/type1/\n",
      "public/amsfonts/cm/cmmi7.pfb></usr/share/texlive/texmf-dist/fonts/type1/public/\n",
      "amsfonts/cm/cmr10.pfb></usr/share/texlive/texmf-dist/fonts/type1/public/amsfont\n",
      "s/cm/cmr12.pfb></usr/share/texlive/texmf-dist/fonts/type1/public/amsfonts/cm/cm\n",
      "r17.pfb></usr/share/texlive/texmf-dist/fonts/type1/public/amsfonts/cm/cmr5.pfb>\n",
      "</usr/share/texlive/texmf-dist/fonts/type1/public/amsfonts/cm/cmr7.pfb></usr/sh\n",
      "are/texlive/texmf-dist/fonts/type1/public/amsfonts/cm/cmr9.pfb></usr/share/texl\n",
      "ive/texmf-dist/fonts/type1/public/amsfonts/cm/cmsy7.pfb></usr/share/texlive/tex\n",
      "mf-dist/fonts/type1/public/amsfonts/cm/cmtt8.pfb></usr/share/texlive/texmf-dist\n",
      "/fonts/type1/public/amsfonts/cm/cmtt9.pfb>\n",
      "Output written on Median&std_table_Java.pdf (2 pages, 139979 bytes).\n",
      "Transcript written on Median&std_table_Java.log.\n",
      "This is pdfTeX, Version 3.141592653-2.6-1.40.22 (TeX Live 2022/dev/Debian) (preloaded format=pdflatex)\n",
      " restricted \\write18 enabled.\n",
      "entering extended mode\n",
      "(./outputs/tables/Median&std_table_Python.tex\n",
      "LaTeX2e <2021-11-15> patch level 1\n",
      "L3 programming layer <2022-01-21>\n",
      "(/usr/share/texlive/texmf-dist/tex/latex/base/article.cls\n",
      "Document Class: article 2021/10/04 v1.4n Standard LaTeX document class\n",
      "(/usr/share/texlive/texmf-dist/tex/latex/base/size10.clo))\n",
      "(/usr/share/texlive/texmf-dist/tex/latex/colortbl/colortbl.sty\n",
      "(/usr/share/texlive/texmf-dist/tex/latex/tools/array.sty)\n",
      "(/usr/share/texlive/texmf-dist/tex/latex/graphics/color.sty\n",
      "(/usr/share/texlive/texmf-dist/tex/latex/graphics-cfg/color.cfg)\n",
      "(/usr/share/texlive/texmf-dist/tex/latex/graphics-def/pdftex.def)))\n",
      "(/usr/share/texlive/texmf-dist/tex/latex/float/float.sty)\n",
      "(/usr/share/texlive/texmf-dist/tex/latex/xcolor/xcolor.sty\n",
      "(/usr/share/texlive/texmf-dist/tex/latex/graphics-cfg/color.cfg))\n",
      "(/usr/share/texlive/texmf-dist/tex/latex/tools/tabularx.sty)\n",
      "(/usr/share/texlive/texmf-dist/tex/latex/l3backend/l3backend-pdftex.def)\n",
      "No file Median&std_table_Python.aux.\n",
      "(/usr/share/texlive/texmf-dist/tex/context/base/mkii/supp-pdf.mkii\n",
      "[Loading MPS to PDF converter (version 2006.09.02).]\n",
      ")\n",
      "Underfull \\hbox (badness 10000) in paragraph at lines 74--75\n",
      "[]\\OT1/cmtt/m/n/9 + implies that the difference between the algorithms for the\n",
      "\n",
      "Underfull \\hbox (badness 10000) in paragraph at lines 108--109\n",
      "[]\\OT1/cmtt/m/n/9 + implies that the pivot algorithm (last column) was worse th\n",
      "an the\n",
      "[1{/var/lib/texmf/fonts/map/pdftex/updmap/pdftex.map}]\n",
      "Underfull \\hbox (badness 2111) in paragraph at lines 133--134\n",
      "\\OT1/cmr/m/n/9 'Padhi2016', 'Gao2020', 'Xu2020', 'Vaidyanathan2004', 'Chen2015'\n",
      ", 'Ah-\n",
      "\n",
      "Underfull \\hbox (badness 10000) in paragraph at lines 134--135\n",
      "[]\\OT1/cmtt/m/n/9 Algorithm (row) vs Algorithm (column) = + implies Algorithm (\n",
      "row)\n",
      "[2] (./Median&std_table_Python.aux) )\n",
      "(see the transcript file for additional information) </home/khaosdev/.texlive20\n",
      "21/texmf-var/fonts/pk/ljfour/jknappen/ec/tcrm0900.600pk></usr/share/texlive/tex\n",
      "mf-dist/fonts/type1/public/amsfonts/cm/cmbx12.pfb></usr/share/texlive/texmf-dis\n",
      "t/fonts/type1/public/amsfonts/cm/cmbx7.pfb></usr/share/texlive/texmf-dist/fonts\n",
      "/type1/public/amsfonts/cm/cmmi5.pfb></usr/share/texlive/texmf-dist/fonts/type1/\n",
      "public/amsfonts/cm/cmmi7.pfb></usr/share/texlive/texmf-dist/fonts/type1/public/\n",
      "amsfonts/cm/cmr10.pfb></usr/share/texlive/texmf-dist/fonts/type1/public/amsfont\n",
      "s/cm/cmr12.pfb></usr/share/texlive/texmf-dist/fonts/type1/public/amsfonts/cm/cm\n",
      "r17.pfb></usr/share/texlive/texmf-dist/fonts/type1/public/amsfonts/cm/cmr5.pfb>\n",
      "</usr/share/texlive/texmf-dist/fonts/type1/public/amsfonts/cm/cmr7.pfb></usr/sh\n",
      "are/texlive/texmf-dist/fonts/type1/public/amsfonts/cm/cmr9.pfb></usr/share/texl\n",
      "ive/texmf-dist/fonts/type1/public/amsfonts/cm/cmsy7.pfb></usr/share/texlive/tex\n",
      "mf-dist/fonts/type1/public/amsfonts/cm/cmtt8.pfb></usr/share/texlive/texmf-dist\n",
      "/fonts/type1/public/amsfonts/cm/cmtt9.pfb>\n",
      "Output written on Median&std_table_Python.pdf (2 pages, 140267 bytes).\n",
      "Transcript written on Median&std_table_Python.log.\n"
     ]
    },
    {
     "data": {
      "text/plain": [
       "CompletedProcess(args=['pdflatex', PosixPath('outputs/tables/Median&std_table_Python.tex')], returncode=0)"
      ]
     },
     "execution_count": 3,
     "metadata": {},
     "output_type": "execute_result"
    }
   ],
   "source": [
    "import subprocess\n",
    "from pathlib import Path\n",
    "\n",
    "# Compile the LaTeX file to PDF\n",
    "subprocess.run(['pdflatex', Path(\"outputs\") / \"tables\" / \"Median&std_table_Java.tex\"])\n",
    "subprocess.run(['pdflatex', Path(\"outputs\") / \"tables\" / \"Median&std_table_Python.tex\"])"
   ]
  }
 ],
 "metadata": {
  "kernelspec": {
   "display_name": "venv",
   "language": "python",
   "name": "python3"
  },
  "language_info": {
   "codemirror_mode": {
    "name": "ipython",
    "version": 3
   },
   "file_extension": ".py",
   "mimetype": "text/x-python",
   "name": "python",
   "nbconvert_exporter": "python",
   "pygments_lexer": "ipython3",
   "version": "3.10.12"
  }
 },
 "nbformat": 4,
 "nbformat_minor": 2
}
